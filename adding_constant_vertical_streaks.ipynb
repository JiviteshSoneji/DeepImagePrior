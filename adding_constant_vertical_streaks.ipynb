{
 "cells": [
  {
   "cell_type": "code",
   "execution_count": 79,
   "metadata": {},
   "outputs": [],
   "source": [
    "import numpy as np\n",
    "import matplotlib.pyplot as plt\n",
    "from PIL import Image\n",
    "# import cv2\n",
    "\n",
    "\n",
    "def manual_vertical_streaks(image, streak_intensity=255, streak_width=1, horizontal_spacing=5):\n",
    "    \"\"\"\n",
    "    Manually add vertical streaks to an image.\n",
    "\n",
    "    Parameters:\n",
    "    image (PIL.Image): Image to add streaks to.\n",
    "    streak_intensity (int): The intensity of the streaks, 255 for white.\n",
    "    streak_width (int): The width of the streaks.\n",
    "    horizontal_spacing (int): The horizontal spacing between streaks.\n",
    "\n",
    "    Returns:\n",
    "    PIL.Image: The image with added vertical streaks.\n",
    "    \"\"\"\n",
    "    # Convert image to a numpy array\n",
    "    img_array = np.array(image)\n",
    "    # Get the dimensions of the image\n",
    "    height, width,c = img_array.shape\n",
    "\n",
    "    # We'll add vertical streaks at regular intervals\n",
    "    for x in range(0, width, horizontal_spacing):\n",
    "        # Add a vertical streak down the height of the image\n",
    "        if x + streak_width < width:  # Check if the streak is within the image bounds\n",
    "            img_array[:, x:x + streak_width] = streak_intensity\n",
    "\n",
    "    # Convert the numpy array back to a PIL image\n",
    "    return Image.fromarray(img_array)\n",
    "\n"
   ]
  }
 ],
 "metadata": {
  "kernelspec": {
   "display_name": "dip",
   "language": "python",
   "name": "python3"
  },
  "language_info": {
   "codemirror_mode": {
    "name": "ipython",
    "version": 3
   },
   "file_extension": ".py",
   "mimetype": "text/x-python",
   "name": "python",
   "nbconvert_exporter": "python",
   "pygments_lexer": "ipython3",
   "version": "3.9.18"
  }
 },
 "nbformat": 4,
 "nbformat_minor": 2
}
