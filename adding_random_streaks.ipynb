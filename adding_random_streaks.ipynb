{
 "cells": [
  {
   "cell_type": "code",
   "execution_count": 2,
   "metadata": {},
   "outputs": [],
   "source": [
    "import os\n",
    "from PIL import Image\n",
    "import numpy as np\n",
    "import random\n",
    "import scipy.stats as stats\n",
    "import matplotlib.pyplot as plt\n",
    "from PIL import Image, ImageOps\n",
    "import numpy as np\n",
    "import torch\n",
    "from torchvision import transforms\n",
    "import matplotlib.pyplot as plt\n",
    "from streak_gen_random_blend_factor import create_randomized_streaks_and_mask\n",
    "from glob import glob"
   ]
  },
  {
   "cell_type": "code",
   "execution_count": 3,
   "metadata": {},
   "outputs": [],
   "source": [
    "fnames = glob(\"/Users/mihiragarwal/Desktop/Project Courses/Streak-Removal-in-HIFU-Images/images_without_streaks/*.jpg\")"
   ]
  },
  {
   "cell_type": "code",
   "execution_count": 5,
   "metadata": {},
   "outputs": [],
   "source": [
    "img = Image.open(fnames[0])"
   ]
  },
  {
   "cell_type": "code",
   "execution_count": 11,
   "metadata": {},
   "outputs": [],
   "source": [
    "i = 0\n",
    "streaked_images = []\n",
    "streak_masks = []"
   ]
  },
  {
   "cell_type": "code",
   "execution_count": 12,
   "metadata": {},
   "outputs": [
    {
     "ename": "KeyboardInterrupt",
     "evalue": "",
     "output_type": "error",
     "traceback": [
      "\u001b[0;31m---------------------------------------------------------------------------\u001b[0m",
      "\u001b[0;31mKeyboardInterrupt\u001b[0m                         Traceback (most recent call last)",
      "Cell \u001b[0;32mIn[12], line 7\u001b[0m\n\u001b[1;32m      5\u001b[0m \u001b[38;5;28;01mfor\u001b[39;00m streak_spacing_range \u001b[38;5;129;01min\u001b[39;00m [(\u001b[38;5;241m70\u001b[39m, \u001b[38;5;241m150\u001b[39m), (\u001b[38;5;241m100\u001b[39m, \u001b[38;5;241m200\u001b[39m), (\u001b[38;5;241m150\u001b[39m, \u001b[38;5;241m300\u001b[39m)]:\n\u001b[1;32m      6\u001b[0m     \u001b[38;5;28;01mfor\u001b[39;00m blend_factor_range \u001b[38;5;129;01min\u001b[39;00m [(\u001b[38;5;241m0.25\u001b[39m, \u001b[38;5;241m0.6\u001b[39m), (\u001b[38;5;241m0.5\u001b[39m, \u001b[38;5;241m0.75\u001b[39m), (\u001b[38;5;241m0.75\u001b[39m, \u001b[38;5;241m1\u001b[39m)]:\n\u001b[0;32m----> 7\u001b[0m             streaked_image,streak_mask \u001b[38;5;241m=\u001b[39m  \u001b[43mcreate_randomized_streaks_and_mask\u001b[49m\u001b[43m(\u001b[49m\u001b[43mimage\u001b[49m\u001b[43m,\u001b[49m\u001b[43m \u001b[49m\u001b[43mmax_streak_width\u001b[49m\u001b[38;5;241;43m=\u001b[39;49m\u001b[43mmax_streak_width\u001b[49m\u001b[43m,\u001b[49m\u001b[43m \u001b[49m\u001b[43mmax_streak_length_factor\u001b[49m\u001b[38;5;241;43m=\u001b[39;49m\u001b[43mmax_streak_length_factor\u001b[49m\u001b[43m,\u001b[49m\u001b[43m \u001b[49m\u001b[43mstreak_spacing_range\u001b[49m\u001b[38;5;241;43m=\u001b[39;49m\u001b[43mstreak_spacing_range\u001b[49m\u001b[43m,\u001b[49m\u001b[43m \u001b[49m\u001b[43mblend_factor_range\u001b[49m\u001b[38;5;241;43m=\u001b[39;49m\u001b[43mblend_factor_range\u001b[49m\u001b[43m)\u001b[49m\n\u001b[1;32m      8\u001b[0m             streaked_images\u001b[38;5;241m.\u001b[39mappend(streaked_image)\n\u001b[1;32m      9\u001b[0m             streak_masks\u001b[38;5;241m.\u001b[39mappend(streak_mask)\n",
      "File \u001b[0;32m~/Desktop/Project Courses/Streak-Removal-in-HIFU-Images/streak_gen_random_blend_factor.py:68\u001b[0m, in \u001b[0;36mcreate_randomized_streaks_and_mask\u001b[0;34m(image, max_streak_width, max_streak_length_factor, streak_spacing_range, blend_factor_range)\u001b[0m\n\u001b[1;32m     64\u001b[0m             mask[streak_start:streak_start \u001b[38;5;241m+\u001b[39m streak_length, x \u001b[38;5;241m+\u001b[39m i] \u001b[38;5;241m=\u001b[39m \u001b[38;5;241m255\u001b[39m\n\u001b[1;32m     66\u001b[0m     x \u001b[38;5;241m+\u001b[39m\u001b[38;5;241m=\u001b[39m streak_width \u001b[38;5;241m+\u001b[39m random\u001b[38;5;241m.\u001b[39mrandint(\u001b[38;5;241m*\u001b[39mstreak_spacing_range)\n\u001b[0;32m---> 68\u001b[0m img_array \u001b[38;5;241m=\u001b[39m \u001b[43madd_gaussian_noise\u001b[49m\u001b[43m(\u001b[49m\u001b[43mimg_array\u001b[49m\u001b[43m)\u001b[49m\n\u001b[1;32m     70\u001b[0m \u001b[38;5;28;01mreturn\u001b[39;00m Image\u001b[38;5;241m.\u001b[39mfromarray(img_array\u001b[38;5;241m.\u001b[39mastype(\u001b[38;5;124m'\u001b[39m\u001b[38;5;124muint8\u001b[39m\u001b[38;5;124m'\u001b[39m)), mask[:, :, \u001b[38;5;241m0\u001b[39m] \u001b[38;5;241m>\u001b[39m \u001b[38;5;241m0\u001b[39m\n",
      "File \u001b[0;32m~/Desktop/Project Courses/Streak-Removal-in-HIFU-Images/streak_gen_random_blend_factor.py:13\u001b[0m, in \u001b[0;36madd_gaussian_noise\u001b[0;34m(image, mean, std)\u001b[0m\n\u001b[1;32m      9\u001b[0m \u001b[38;5;28;01mdef\u001b[39;00m \u001b[38;5;21madd_gaussian_noise\u001b[39m(image, mean\u001b[38;5;241m=\u001b[39m\u001b[38;5;241m0\u001b[39m, std\u001b[38;5;241m=\u001b[39m\u001b[38;5;241m1\u001b[39m):\n\u001b[1;32m     10\u001b[0m \u001b[38;5;250m    \u001b[39m\u001b[38;5;124;03m\"\"\"\u001b[39;00m\n\u001b[1;32m     11\u001b[0m \u001b[38;5;124;03m    Add Gaussian noise to an image.\u001b[39;00m\n\u001b[1;32m     12\u001b[0m \u001b[38;5;124;03m    \"\"\"\u001b[39;00m\n\u001b[0;32m---> 13\u001b[0m     gaussian \u001b[38;5;241m=\u001b[39m \u001b[43mnp\u001b[49m\u001b[38;5;241;43m.\u001b[39;49m\u001b[43mrandom\u001b[49m\u001b[38;5;241;43m.\u001b[39;49m\u001b[43mnormal\u001b[49m\u001b[43m(\u001b[49m\u001b[43mmean\u001b[49m\u001b[43m,\u001b[49m\u001b[43m \u001b[49m\u001b[43mstd\u001b[49m\u001b[43m,\u001b[49m\u001b[43m \u001b[49m\u001b[43mimage\u001b[49m\u001b[38;5;241;43m.\u001b[39;49m\u001b[43mshape\u001b[49m\u001b[43m)\u001b[49m\n\u001b[1;32m     14\u001b[0m     noisy_image \u001b[38;5;241m=\u001b[39m np\u001b[38;5;241m.\u001b[39mclip(image \u001b[38;5;241m+\u001b[39m gaussian, \u001b[38;5;241m0\u001b[39m, \u001b[38;5;241m255\u001b[39m)\n\u001b[1;32m     15\u001b[0m     \u001b[38;5;28;01mreturn\u001b[39;00m noisy_image\n",
      "\u001b[0;31mKeyboardInterrupt\u001b[0m: "
     ]
    }
   ],
   "source": [
    "for fname in fnames:\n",
    "    image = Image.open(fname)\n",
    "    for max_streak_width in [34, 50, 100]:\n",
    "        for max_streak_length_factor in [0.5, 0.75, 1]:\n",
    "            for streak_spacing_range in [(70, 150), (100, 200), (150, 300)]:\n",
    "                for blend_factor_range in [(0.25, 0.6), (0.5, 0.75), (0.75, 1)]:\n",
    "                        streaked_image,streak_mask =  create_randomized_streaks_and_mask(image, max_streak_width=max_streak_width, max_streak_length_factor=max_streak_length_factor, streak_spacing_range=streak_spacing_range, blend_factor_range=blend_factor_range)\n",
    "                        streaked_images.append(streaked_image)\n",
    "                        streak_masks.append(streak_mask)\n",
    "                        \n",
    "\n",
    "        "
   ]
  },
  {
   "cell_type": "code",
   "execution_count": null,
   "metadata": {},
   "outputs": [],
   "source": [
    "for i in range(len(streaked_images)):\n",
    "    streaked_images[i].save(\"/Users/mihiragarwal/Desktop/Project Courses/Streak-Removal-in-HIFU-Images/streaked_images/streaked_image_\"+str(i)+\".jpg\")\n",
    "    streak_masks[i].save(\"/Users/mihiragarwal/Desktop/Project Courses/Streak-Removal-in-HIFU-Images/streak_masks/streak_mask_\"+str(i)+\".jpg\")"
   ]
  }
 ],
 "metadata": {
  "kernelspec": {
   "display_name": "pytorch",
   "language": "python",
   "name": "python3"
  },
  "language_info": {
   "codemirror_mode": {
    "name": "ipython",
    "version": 3
   },
   "file_extension": ".py",
   "mimetype": "text/x-python",
   "name": "python",
   "nbconvert_exporter": "python",
   "pygments_lexer": "ipython3",
   "version": "3.10.9"
  }
 },
 "nbformat": 4,
 "nbformat_minor": 2
}
