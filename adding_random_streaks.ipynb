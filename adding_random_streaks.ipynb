{
 "cells": [
  {
   "cell_type": "code",
   "execution_count": 1,
   "metadata": {},
   "outputs": [
    {
     "name": "stderr",
     "output_type": "stream",
     "text": [
      "/Users/mihiragarwal/mambaforge/envs/pytorch/lib/python3.10/site-packages/tqdm/auto.py:21: TqdmWarning: IProgress not found. Please update jupyter and ipywidgets. See https://ipywidgets.readthedocs.io/en/stable/user_install.html\n",
      "  from .autonotebook import tqdm as notebook_tqdm\n"
     ]
    }
   ],
   "source": [
    "import os\n",
    "from PIL import Image\n",
    "import numpy as np\n",
    "import random\n",
    "import scipy.stats as stats\n",
    "import matplotlib.pyplot as plt\n",
    "from PIL import Image, ImageOps\n",
    "import numpy as np\n",
    "import torch\n",
    "from torchvision import transforms\n",
    "import matplotlib.pyplot as plt\n",
    "from streak_gen_random_blend_factor import create_randomized_streaks_and_mask\n",
    "from glob import glob\n",
    "from tqdm import tqdm"
   ]
  },
  {
   "cell_type": "code",
   "execution_count": 2,
   "metadata": {},
   "outputs": [
    {
     "name": "stdout",
     "output_type": "stream",
     "text": [
      "91\n"
     ]
    }
   ],
   "source": [
    "fnames = glob(\"/Users/mihiragarwal/Desktop/Project Courses/Streak-Removal-in-HIFU-Images/images_without_streaks/*.jpg\")\n",
    "print(len(fnames))"
   ]
  },
  {
   "cell_type": "code",
   "execution_count": 3,
   "metadata": {},
   "outputs": [],
   "source": [
    "i = 0"
   ]
  },
  {
   "cell_type": "code",
   "execution_count": 4,
   "metadata": {},
   "outputs": [
    {
     "name": "stderr",
     "output_type": "stream",
     "text": [
      "  0%|          | 0/91 [00:00<?, ?it/s]"
     ]
    },
    {
     "name": "stderr",
     "output_type": "stream",
     "text": [
      "100%|██████████| 91/91 [04:22<00:00,  2.89s/it]\n"
     ]
    }
   ],
   "source": [
    "for fname in tqdm(fnames):\n",
    "    image = Image.open(fname)\n",
    "    for max_streak_width in [15, 25, 40]:\n",
    "        for max_streak_length_factor in [0.5, 0.75, 1]:\n",
    "            for streak_spacing_range in [(70, 150), (100, 200)]:\n",
    "                        streaked_image,streak_mask =  create_randomized_streaks_and_mask(image, max_streak_width=max_streak_width, max_streak_length_factor=max_streak_length_factor, streak_spacing_range=streak_spacing_range)\n",
    "                        streak_mask = Image.fromarray(np.uint8(streak_mask) * 255)\n",
    "                        streaked_image.save(\"/Users/mihiragarwal/Desktop/Project Courses/Streak-Removal-in-HIFU-Images/streaked_images/streaked_image_\"+str(i)+\".jpg\")\n",
    "                        streak_mask.save(\"/Users/mihiragarwal/Desktop/Project Courses/Streak-Removal-in-HIFU-Images/streak_masks/streak_mask_\"+str(i)+\".jpg\")\n",
    "                        i+=1"
   ]
  },
  {
   "cell_type": "code",
   "execution_count": null,
   "metadata": {},
   "outputs": [],
   "source": []
  }
 ],
 "metadata": {
  "kernelspec": {
   "display_name": "pytorch",
   "language": "python",
   "name": "python3"
  },
  "language_info": {
   "codemirror_mode": {
    "name": "ipython",
    "version": 3
   },
   "file_extension": ".py",
   "mimetype": "text/x-python",
   "name": "python",
   "nbconvert_exporter": "python",
   "pygments_lexer": "ipython3",
   "version": "3.10.9"
  }
 },
 "nbformat": 4,
 "nbformat_minor": 2
}
